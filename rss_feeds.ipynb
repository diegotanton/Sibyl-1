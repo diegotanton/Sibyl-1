{
 "cells": [
  {
   "cell_type": "code",
   "execution_count": 1,
   "metadata": {},
   "outputs": [],
   "source": [
    "## Load Libraries\n",
    "\n",
    "import pandas as pd"
   ]
  },
  {
   "cell_type": "code",
   "execution_count": 5,
   "metadata": {},
   "outputs": [],
   "source": [
    "## Load Data Frames\n",
    "\n",
    "names = [\"industrials\", \"healthcare\", \"finance\", \"tech\", \"consumer\", \"energy\"]\n",
    "\n",
    "for corp in names:\n",
    "    exec(f\"{corp} = pd.read_csv('data/corps/{corp}.csv')\")\n",
    "\n",
    "corps = pd.read_csv(\"data/corps.csv\")"
   ]
  },
  {
   "cell_type": "code",
   "execution_count": 7,
   "metadata": {},
   "outputs": [
    {
     "data": {
      "text/plain": [
       "18"
      ]
     },
     "execution_count": 7,
     "metadata": {},
     "output_type": "execute_result"
    }
   ],
   "source": [
    "## Create Batches of size 25\n",
    "\n",
    "df = tech\n",
    "\n",
    "def full_name(ticker, company=True):\n",
    "    name = corps.loc[corps[\"Ticker\"]==ticker, \"NameCln\"].values[0]\n",
    "    if company:\n",
    "        name = name+\" company\"\n",
    "    return name\n",
    "\n",
    "batch = {}\n",
    "batch_size = 25\n",
    "var = df[\"Ticker\"].apply(full_name).values.tolist()\n",
    "\n",
    "for i in range(0, len(var), batch_size):\n",
    "    batch_number = i // batch_size + 1\n",
    "    batch[batch_number] = var[i:i + batch_size]\n",
    "\n",
    "len(batch)"
   ]
  },
  {
   "cell_type": "code",
   "execution_count": null,
   "metadata": {
    "vscode": {
     "languageId": "javascript"
    }
   },
   "outputs": [],
   "source": [
    "// Create test alert, find event starting with \"create\" in Network tab, copy as fetch and paste below\n",
    "\n",
    "fetch(\"https://www.google.com/alerts/create?x=AMJHsmU4tcywJxdPUPsJKJHvBj43OCH74A%3A1722527051969&authuser=4\", {\n",
    "  \"headers\": {\n",
    "    \"accept\": \"*/*\",\n",
    "    \"accept-language\": \"en-US,en;q=0.9\",\n",
    "    \"content-type\": \"application/x-www-form-urlencoded;charset=UTF-8\",\n",
    "    \"priority\": \"u=1, i\",\n",
    "    \"sec-ch-ua\": \"\\\"Not/A)Brand\\\";v=\\\"8\\\", \\\"Chromium\\\";v=\\\"126\\\", \\\"Google Chrome\\\";v=\\\"126\\\"\",\n",
    "    \"sec-ch-ua-arch\": \"\\\"x86\\\"\",\n",
    "    \"sec-ch-ua-bitness\": \"\\\"64\\\"\",\n",
    "    \"sec-ch-ua-full-version\": \"\\\"126.0.6478.183\\\"\",\n",
    "    \"sec-ch-ua-full-version-list\": \"\\\"Not/A)Brand\\\";v=\\\"8.0.0.0\\\", \\\"Chromium\\\";v=\\\"126.0.6478.183\\\", \\\"Google Chrome\\\";v=\\\"126.0.6478.183\\\"\",\n",
    "    \"sec-ch-ua-mobile\": \"?0\",\n",
    "    \"sec-ch-ua-model\": \"\\\"\\\"\",\n",
    "    \"sec-ch-ua-platform\": \"\\\"macOS\\\"\",\n",
    "    \"sec-ch-ua-platform-version\": \"\\\"14.5.0\\\"\",\n",
    "    \"sec-ch-ua-wow64\": \"?0\",\n",
    "    \"sec-fetch-dest\": \"empty\",\n",
    "    \"sec-fetch-mode\": \"cors\",\n",
    "    \"sec-fetch-site\": \"same-origin\",\n",
    "    \"x-client-data\": \"CJS2yQEIpbbJAQipncoBCNGgygEIj+nKAQiTocsBCIagzQEIucjNAQivns4BCMGezgEI3qfOAQierM4BCOSvzgEIn7HOAQikss4BGI/OzQEYoJ3OARjup84BGLquzgEY642lFw==\"\n",
    "  },\n",
    "  \"referrer\": \"https://www.google.com/alerts?authuser=4\",\n",
    "  \"referrerPolicy\": \"strict-origin-when-cross-origin\",\n",
    "  \"body\": \"params=%5Bnull%2C%5Bnull%2Cnull%2Cnull%2C%5Bnull%2C%22test%202%22%2C%22com%22%2C%5Bnull%2C%22en%22%2C%22US%22%5D%2Cnull%2Cnull%2Cnull%2C0%2C1%5D%2Cnull%2C2%2C%5B%5Bnull%2C2%2C%22%22%2C%5B%5D%2C1%2C%22en-US%22%2Cnull%2Cnull%2Cnull%2Cnull%2Cnull%2C%220%22%2Cnull%2Cnull%2C%22AB2Xq4hcilCERh73EFWJVHXx-io2lhh1EhC8UD8%22%5D%5D%2Cnull%2Cnull%2C%5B1%2C3%5D%5D%5D\",\n",
    "  \"method\": \"POST\",\n",
    "  \"mode\": \"cors\",\n",
    "  \"credentials\": \"include\"\n",
    "});"
   ]
  },
  {
   "cell_type": "code",
   "execution_count": 9,
   "metadata": {},
   "outputs": [
    {
     "data": {
      "text/plain": [
       "['Microsoft company',\n",
       " 'Apple company',\n",
       " 'NVIDIA company',\n",
       " 'Alphabet company',\n",
       " 'Broadcom company',\n",
       " 'Meta company',\n",
       " 'Oracle company',\n",
       " 'Netflix company',\n",
       " 'Advanced Micro Devices company',\n",
       " 'Salesforce company',\n",
       " 'Qualcomm company',\n",
       " 'Adobe company',\n",
       " 'Accenture company',\n",
       " 'T-Mobile US company',\n",
       " 'Walt Disney company',\n",
       " 'Cisco Systems company',\n",
       " 'Applied Materials company',\n",
       " 'Texas Instruments company',\n",
       " 'Intuit company',\n",
       " 'Verizon Communications company',\n",
       " 'International Business Machines company',\n",
       " 'Comcast company',\n",
       " 'ServiceNow company',\n",
       " 'Micron Technology company',\n",
       " 'Intel company']"
      ]
     },
     "execution_count": 9,
     "metadata": {},
     "output_type": "execute_result"
    }
   ],
   "source": [
    "## Copy Batch Here\n",
    "\n",
    "batch[1]"
   ]
  },
  {
   "cell_type": "code",
   "execution_count": null,
   "metadata": {
    "vscode": {
     "languageId": "javascript"
    }
   },
   "outputs": [],
   "source": [
    "// Paste into Google Alerts console window; execute in batches of 25\n",
    "\n",
    "async function createGoogleAlerts(companies) {\n",
    "    for (let i = 0; i < companies.length; i++) {\n",
    "        const company = companies[i];\n",
    "        const alertName = encodeURIComponent(company);\n",
    "        const body = `params=%5Bnull%2C%5Bnull%2Cnull%2Cnull%2C%5Bnull%2C%22${alertName}%22%2C%22com%22%2C%5Bnull%2C%22en%22%2C%22US%22%5D%2Cnull%2Cnull%2Cnull%2C0%2C1%5D%2Cnull%2C2%2C%5B%5Bnull%2C2%2C%22%22%2C%5B%5D%2C1%2C%22en-US%22%2Cnull%2Cnull%2Cnull%2Cnull%2Cnull%2C%220%22%2Cnull%2Cnull%2C%22AB2Xq4hcilCERh73EFWJVHXx-io2lhh1EhC8UD8%22%5D%5D%2Cnull%2Cnull%2C%5B1%2C3%5D%5D%5D`;\n",
    "\n",
    "        await fetch(\"https://www.google.com/alerts/create?x=AMJHsmU4tcywJxdPUPsJKJHvBj43OCH74A%3A1722527051969&authuser=4\", {\n",
    "            \"headers\": {\n",
    "              \"accept\": \"*/*\",\n",
    "              \"accept-language\": \"en-US,en;q=0.9\",\n",
    "              \"content-type\": \"application/x-www-form-urlencoded;charset=UTF-8\",\n",
    "              \"priority\": \"u=1, i\",\n",
    "              \"sec-ch-ua\": \"\\\"Not/A)Brand\\\";v=\\\"8\\\", \\\"Chromium\\\";v=\\\"126\\\", \\\"Google Chrome\\\";v=\\\"126\\\"\",\n",
    "              \"sec-ch-ua-arch\": \"\\\"x86\\\"\",\n",
    "              \"sec-ch-ua-bitness\": \"\\\"64\\\"\",\n",
    "              \"sec-ch-ua-full-version\": \"\\\"126.0.6478.183\\\"\",\n",
    "              \"sec-ch-ua-full-version-list\": \"\\\"Not/A)Brand\\\";v=\\\"8.0.0.0\\\", \\\"Chromium\\\";v=\\\"126.0.6478.183\\\", \\\"Google Chrome\\\";v=\\\"126.0.6478.183\\\"\",\n",
    "              \"sec-ch-ua-mobile\": \"?0\",\n",
    "              \"sec-ch-ua-model\": \"\\\"\\\"\",\n",
    "              \"sec-ch-ua-platform\": \"\\\"macOS\\\"\",\n",
    "              \"sec-ch-ua-platform-version\": \"\\\"14.5.0\\\"\",\n",
    "              \"sec-ch-ua-wow64\": \"?0\",\n",
    "              \"sec-fetch-dest\": \"empty\",\n",
    "              \"sec-fetch-mode\": \"cors\",\n",
    "              \"sec-fetch-site\": \"same-origin\",\n",
    "              \"x-client-data\": \"CJS2yQEIpbbJAQipncoBCNGgygEIj+nKAQiTocsBCIagzQEIucjNAQivns4BCMGezgEI3qfOAQierM4BCOSvzgEIn7HOAQikss4BGI/OzQEYoJ3OARjup84BGLquzgEY642lFw==\"\n",
    "            },\n",
    "            \"referrer\": \"https://www.google.com/alerts?authuser=4\",\n",
    "            \"referrerPolicy\": \"strict-origin-when-cross-origin\",\n",
    "            \"body\": body,\n",
    "            \"method\": \"POST\",\n",
    "            \"mode\": \"cors\",\n",
    "            \"credentials\": \"include\"\n",
    "        }).then(response => {\n",
    "            console.log(`Alert created for: ${company}`);\n",
    "            return response.text();\n",
    "        }).then(text => {\n",
    "            console.log(text);\n",
    "        }).catch(error => {\n",
    "            console.error(`Error creating alert for: ${company}`, error);\n",
    "        });\n",
    "\n",
    "        // Exponentially increase the delay, capped at 30-40 seconds.\n",
    "        const maxDelay = 30 + Math.floor(Math.random() * 11);\n",
    "        const delay = Math.min((i + 1) * 2, maxDelay) * 1000;\n",
    "        console.log(`Waiting ${delay / 1000} seconds before the next request...`);\n",
    "        await new Promise(resolve => setTimeout(resolve, delay));\n",
    "    }\n",
    "}\n",
    "\n",
    "// Paste list in here\n",
    "createGoogleAlerts(['NVIDIA company',\n",
    "'Alphabet company',\n",
    "'Broadcom company',\n",
    "'Meta company',\n",
    "'Oracle company',\n",
    "'Netflix company',\n",
    "'Advanced Micro Devices company',\n",
    "'Salesforce company',\n",
    "'Qualcomm company',\n",
    "'Adobe company',\n",
    "'Accenture company',\n",
    "'T-Mobile US company',\n",
    "'Walt Disney company',\n",
    "'Cisco Systems company',\n",
    "'Applied Materials company',\n",
    "'Texas Instruments company',\n",
    "'Intuit company',\n",
    "'Verizon Communications company',\n",
    "'International Business Machines company',\n",
    "'Comcast company',\n",
    "'ServiceNow company',\n",
    "'Micron Technology company',\n",
    "'Intel company']);"
   ]
  }
 ],
 "metadata": {
  "kernelspec": {
   "display_name": "sibyl-1",
   "language": "python",
   "name": "python3"
  },
  "language_info": {
   "codemirror_mode": {
    "name": "ipython",
    "version": 3
   },
   "file_extension": ".py",
   "mimetype": "text/x-python",
   "name": "python",
   "nbconvert_exporter": "python",
   "pygments_lexer": "ipython3",
   "version": "3.12.4"
  },
  "orig_nbformat": 4
 },
 "nbformat": 4,
 "nbformat_minor": 2
}
